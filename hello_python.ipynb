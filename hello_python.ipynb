{
 "cells": [
  {
   "cell_type": "code",
   "execution_count": 1,
   "metadata": {
    "collapsed": false
   },
   "outputs": [
    {
     "data": {
      "text/plain": [
       "75"
      ]
     },
     "execution_count": 1,
     "metadata": {},
     "output_type": "execute_result"
    }
   ],
   "source": [
    "25*3"
   ]
  },
  {
   "cell_type": "code",
   "execution_count": 2,
   "metadata": {
    "collapsed": false
   },
   "outputs": [
    {
     "name": "stdout",
     "output_type": "stream",
     "text": [
      "Hello วิชาไพธอน\n"
     ]
    }
   ],
   "source": [
    "print('Hello วิชาไพธอน')"
   ]
  },
  {
   "cell_type": "markdown",
   "metadata": {},
   "source": [
    "# หัวข้อใหญ่\n",
    "## หัวข้อรอง มี 2-6 เครื่องหมายสี่เหลี่ยม\n",
    "\n",
    "ข้อความทั่วไปก็พิมพ์ไปได้เลย เว้น 1 บรรทัดทุกท้ายย่อหน้าด้วย\n",
    "\n",
    "ถ้าอยากได้ตัวหนา __ก็ทำอย่างนี้__ แล้วก็ _ทำแบบนี้_ กับตัวเอียง\n",
    "\n",
    "หัวเรื่องก็ทำได้\n",
    "* รายข้อ\n",
    "* รายข้อ\n",
    "    1. ลำดับ\n",
    "    2. ลำดับ\n",
    "    \n",
    "```python\n",
    "print('Hello วิชาไพธอน')\n",
    "```\n",
    "\n",
    "อยากเก่งต้องทำไง?\n",
    "> อยากเก่งต้องฝึก\n",
    "\n",
    "This is [an example](http://example.com/ \"Title\") inline link.\n",
    "\n",
    "![Logo](http://192.168.43.200:8888/static/base/images/logo.png)\n",
    "\n",
    "| Syntax | Description |\n",
    "| ----------- | ----------- |\n",
    "| Header | Title |\n",
    "| Paragraph | Text |\n",
    "\n"
   ]
  },
  {
   "cell_type": "code",
   "execution_count": 3,
   "metadata": {
    "collapsed": false
   },
   "outputs": [
    {
     "data": {
      "text/plain": [
       "' Multiline strings can be written\\n    using three \"s, and are often used\\n    as documentation.\\n'"
      ]
     },
     "execution_count": 3,
     "metadata": {},
     "output_type": "execute_result"
    }
   ],
   "source": [
    "# Single line comments start with a number symbol.\n",
    "\n",
    "\"\"\" Multiline strings can be written\n",
    "    using three \"s, and are often used\n",
    "    as documentation.\n",
    "\"\"\""
   ]
  },
  {
   "cell_type": "markdown",
   "metadata": {},
   "source": [
    "### condition & math operators"
   ]
  },
  {
   "cell_type": "code",
   "execution_count": null,
   "metadata": {
    "collapsed": true
   },
   "outputs": [],
   "source": [
    "rand_number = 75\n",
    "\n",
    "if (rand_number%2.0 == 0):\n",
    "    print('เลขคู่')\n",
    "else:\n",
    "    print('เลขคี่')"
   ]
  },
  {
   "cell_type": "code",
   "execution_count": null,
   "metadata": {
    "collapsed": true
   },
   "outputs": [],
   "source": [
    "#tempurater converter\n",
    "t1 = 99.5\n",
    "t2 = 38.2\n",
    "\n",
    "celsius = ......convert t1/fahrenheit to celsius\n",
    "print(celsius)\n",
    "\n",
    "fahrenheit = ......convert t2/celsius to fahrenheit\n",
    "print(fahrenheit)"
   ]
  },
  {
   "cell_type": "code",
   "execution_count": null,
   "metadata": {
    "collapsed": false
   },
   "outputs": [],
   "source": [
    "# BMI calculator (Metric)\n",
    "# BMI = weight(kg) / height(m)^2\n",
    "\n",
    "body_weight = 85   # kg.\n",
    "height = 1.72      # m.\n",
    "\n",
    "bmi_score = .......\n",
    "if bmi_score >= ...:\n",
    "    print('คุณอ้วน')\n",
    "elif bmi_sore >= ...:\n",
    "    print('....')\n",
    "    # ไล่ไปจนครบ"
   ]
  },
  {
   "cell_type": "code",
   "execution_count": 50,
   "metadata": {
    "collapsed": false
   },
   "outputs": [
    {
     "data": {
      "text/plain": [
       "True"
      ]
     },
     "execution_count": 50,
     "metadata": {},
     "output_type": "execute_result"
    }
   ],
   "source": [
    "list1 = [1,2,3,4,5]\n",
    "list2 = [6,7,3,2,3]\n",
    "#print(list1)\n",
    "# slice [start:stop:step]\n",
    "list2.count(3)\n",
    "\n",
    "7 in list2"
   ]
  },
  {
   "cell_type": "code",
   "execution_count": 55,
   "metadata": {
    "collapsed": false
   },
   "outputs": [
    {
     "name": "stdout",
     "output_type": "stream",
     "text": [
      "somchai\n",
      "somying\n",
      "----\n",
      "we have a guy age 25 in our records\n"
     ]
    }
   ],
   "source": [
    "dict1 = {'name':'somchai', 'age':25, 'mobile':'082342234'}\n",
    "print(dict1['name'])\n",
    "dict1['name'] = 'somying'\n",
    "print(dict1['name'])\n",
    "print('----')\n",
    "list(dict1.keys())\n",
    "\n",
    "if (25 in list(dict1.values())):\n",
    "    print('we have a guy age 25 in our records')"
   ]
  },
  {
   "cell_type": "code",
   "execution_count": 75,
   "metadata": {
    "collapsed": false
   },
   "outputs": [
    {
     "name": "stdout",
     "output_type": "stream",
     "text": [
      "00003.3333\n"
     ]
    }
   ],
   "source": [
    "value = 10/3.0\n",
    "print('{:010.4f}'.format(value))"
   ]
  },
  {
   "cell_type": "code",
   "execution_count": null,
   "metadata": {
    "collapsed": true
   },
   "outputs": [],
   "source": []
  }
 ],
 "metadata": {
  "kernelspec": {
   "display_name": "Python 3",
   "language": "python",
   "name": "python3"
  },
  "language_info": {
   "codemirror_mode": {
    "name": "ipython",
    "version": 3
   },
   "file_extension": ".py",
   "mimetype": "text/x-python",
   "name": "python",
   "nbconvert_exporter": "python",
   "pygments_lexer": "ipython3",
   "version": "3.5.3"
  }
 },
 "nbformat": 4,
 "nbformat_minor": 2
}
